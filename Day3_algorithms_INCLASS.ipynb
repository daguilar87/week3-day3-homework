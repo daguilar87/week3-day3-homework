{
 "cells": [
  {
   "cell_type": "markdown",
   "metadata": {},
   "source": [
    "# Algorithms, Binary Search & Sorting"
   ]
  },
  {
   "cell_type": "markdown",
   "metadata": {},
   "source": [
    "## Tasks Today:\n",
    " \n",
    "1) <b>In-Place Algorithms</b> <br>\n",
    " &nbsp;&nbsp;&nbsp;&nbsp; a) Syntax <br>\n",
    " &nbsp;&nbsp;&nbsp;&nbsp; a) Out of Place Algorithm <br>\n",
    " &nbsp;&nbsp;&nbsp;&nbsp; b) In-Class Exercise #1 <br>\n",
    "2) <b>Two Pointers</b> <br>\n",
    "3) <b>Sorting Algos</b> <br>\n",
    " &nbsp;&nbsp;&nbsp;&nbsp; a) Video on Algorithms <br>\n",
    " &nbsp;&nbsp;&nbsp;&nbsp; b) How it Works <br>\n",
    "4) <b>Exercises</b> <br>\n",
    " &nbsp;&nbsp;&nbsp;&nbsp; a) Exercise #1 - Reverse a List in Place Using an In-Place Algorithm <br>\n",
    " &nbsp;&nbsp;&nbsp;&nbsp; b) Exercise #2 - Find Distinct Words <br>\n",
    " &nbsp;&nbsp;&nbsp;&nbsp; c) Exercise #3 - Write a program to implement a Linear Search Algorithm. <br>"
   ]
  },
  {
   "cell_type": "markdown",
   "metadata": {},
   "source": [
    "## In-Place Algorithms"
   ]
  },
  {
   "cell_type": "markdown",
   "metadata": {},
   "source": [
    "#### Syntax"
   ]
  },
  {
   "cell_type": "code",
   "execution_count": 2,
   "metadata": {},
   "outputs": [
    {
     "name": "stdout",
     "output_type": "stream",
     "text": [
      "original- [1, 5, 3, 16, 2]\n",
      "AFTER swap- [2, 5, 3, 16, 1]\n"
     ]
    }
   ],
   "source": [
    "# in-place modifies the ACTUAL list/data structure\n",
    "\n",
    "#     0        1   :      1        0\n",
    "# var[i], var[i+1] = var[i+1], var[i]\n",
    "\n",
    "# def swap(alist, x, y):\n",
    "#     tempa = alist[x]\n",
    "#     tempb = alist[y]\n",
    "#     alist[x] = tempa\n",
    "#     alist[y] = tempa\n",
    "\n",
    "# def swap(alist, x, y):\n",
    "#     alist[x], alist[y]= alist[y], alist[x]\n",
    "  #     0 1 2 3 4 5  \n",
    "nums = [1,5,3,16,2]\n",
    "print(f\"original- {nums}\")\n",
    "\n",
    "swap(nums, 0,4)\n",
    "\n",
    "print(f\"AFTER swap- {nums}\")"
   ]
  },
  {
   "cell_type": "markdown",
   "metadata": {},
   "source": [
    "#### Out of Place Algorithm"
   ]
  },
  {
   "cell_type": "code",
   "execution_count": 45,
   "metadata": {},
   "outputs": [
    {
     "name": "stdout",
     "output_type": "stream",
     "text": [
      "original- [1, 5, 3, 16, 2]\n",
      "AFTER swap- [1, 5, 3, 16, 2]\n"
     ]
    }
   ],
   "source": [
    "# out of place returns a modified copy ex sort sorts your list sorted makes a copy\n",
    "\n",
    "def swapOut(alist, x, y):\n",
    "    copy = alist[:]\n",
    "    copy[x], copy[y]= copy[y], copy[x]\n",
    "    return copy\n",
    "  #     0 1 2 3 4 5  \n",
    "nums = [1,5,3,16,2]\n",
    "print(f\"original- {nums}\")\n",
    "\n",
    "swapOut(nums, 0,4)\n",
    "\n",
    "print(f\"AFTER swap- {nums}\")"
   ]
  },
  {
   "cell_type": "markdown",
   "metadata": {},
   "source": [
    "#### In-Class Exercise #1 <br>\n",
    "<p>Write a function that takes in four arguments (list, index1, index2, index3), and swaps those three positions in the list passed in.</p>"
   ]
  },
  {
   "cell_type": "code",
   "execution_count": 33,
   "metadata": {},
   "outputs": [
    {
     "name": "stdout",
     "output_type": "stream",
     "text": [
      "[10, 4, 3, 8, 4, 2, 6]\n"
     ]
    },
    {
     "data": {
      "text/plain": [
       "[10, 8, 4, 3, 4, 2, 6]"
      ]
     },
     "execution_count": 33,
     "metadata": {},
     "output_type": "execute_result"
    }
   ],
   "source": [
    "l_1 = [10, 4, 3, 8, 4, 2, 6]\n",
    "\n",
    "def swapz(alist,x,y,z):\n",
    "    copy = alist[:]\n",
    "    copy[x],copy[y],copy[z] = copy[z],copy[x],copy[y]\n",
    "    return copy\n",
    "print(l_1)\n",
    "swapz(l_1, 1,2,3)\n",
    "\n"
   ]
  },
  {
   "cell_type": "markdown",
   "metadata": {},
   "source": [
    "## Two Pointers"
   ]
  },
  {
   "cell_type": "markdown",
   "metadata": {},
   "source": [
    "#### Syntax"
   ]
  },
  {
   "cell_type": "code",
   "execution_count": 4,
   "metadata": {},
   "outputs": [
    {
     "name": "stdout",
     "output_type": "stream",
     "text": [
      "[1, 2, 3, 4, 5]\n",
      "[5, 4, 3, 2, 1]\n"
     ]
    }
   ],
   "source": [
    "#        0 1 2 3 4\n",
    "#       -5-4-3-2-1\n",
    "nums2 = [1,2,3,4,5]\n",
    "nums3 = [5,9,11,56,45,2,86,21]\n",
    "\n",
    "def twoPointer(numlist):\n",
    "    #create our pointers\n",
    "    left = 0\n",
    "    right = len(numlist)-1\n",
    "    while left < right:\n",
    "        numlist[left], numlist[right] = numlist[right], numlist[left]\n",
    "        left += 1 #moving through list 1\n",
    "        right -= 1\n",
    "#     return numlist\n",
    "print(nums2)\n",
    "twoPointer(nums2)\n",
    "print(nums2)"
   ]
  },
  {
   "cell_type": "markdown",
   "metadata": {},
   "source": [
    "#### Video of Algorithms <br>\n",
    "<p>Watch the video about algorithms.</p>\n",
    "\n",
    "https://www.youtube.com/watch?v=Q9HjeFD62Uk\n",
    "\n",
    "https://www.youtube.com/watch?v=kPRA0W1kECg\n",
    "\n",
    "https://www.youtube.com/watch?v=ZZuD6iUe3Pc"
   ]
  },
  {
   "cell_type": "markdown",
   "metadata": {},
   "source": [
    "# Sorting Algorithms"
   ]
  },
  {
   "cell_type": "markdown",
   "metadata": {},
   "source": [
    "#### Bubble Sort\n",
    "\n",
    "Worst Case: O(n^2) Time - O(1) Space"
   ]
  },
  {
   "cell_type": "code",
   "execution_count": 11,
   "metadata": {},
   "outputs": [
    {
     "name": "stdout",
     "output_type": "stream",
     "text": [
      "[5, 3, 84, 65, 10, 91, 2]\n",
      "[2, 3, 5, 10, 65, 84, 91]\n"
     ]
    }
   ],
   "source": [
    "# this is going to be a helper func for us here\n",
    "def swap(alist, x, y):\n",
    "    alist[x], alist[y]= alist[y], alist[x]\n",
    "    \n",
    "def bubbleSort(arr):\n",
    "    for x in range(len(arr)):\n",
    "        count = 0\n",
    "#         print(f\"count-{count}\")\n",
    "        for i in range(len(arr)-1):\n",
    "#             print(f\"i- {i}\")\n",
    "            if arr[i] > arr[i+1]:\n",
    "                swap(arr, i, i+1)\n",
    "        count += 1\n",
    "nums5=[5,3,84,65,10,91,2]\n",
    "# print(nums5)\n",
    "# bubbleSort(nums5)\n",
    "# print(nums5)\n",
    "\n",
    "def bubbleSortOp(arr):\n",
    "    isSorted = False\n",
    "    while not isSorted:\n",
    "        isSorted = True\n",
    "        for i in range(len(arr)-1):\n",
    "             if arr[i] > arr[i+1]:\n",
    "                swap(arr, i, i+1)\n",
    "                isSorted = False\n",
    "print(nums5)\n",
    "bubbleSortOp(nums5)\n",
    "print(nums5)\n",
    "        "
   ]
  },
  {
   "cell_type": "markdown",
   "metadata": {},
   "source": [
    "##### Insertion Sort\n",
    "\n",
    "Worst Case: O(n^2) time - O(1)space"
   ]
  },
  {
   "cell_type": "code",
   "execution_count": 12,
   "metadata": {},
   "outputs": [
    {
     "name": "stdout",
     "output_type": "stream",
     "text": [
      "[55, 1, 99, 65, 41, 3, 8, 74]\n",
      "[1, 3, 8, 41, 55, 65, 74, 99]\n"
     ]
    }
   ],
   "source": [
    "def swap(alist, x, y):\n",
    "    alist[x], alist[y]= alist[y], alist[x]\n",
    "    \n",
    "def insSort(arr):\n",
    "    for i in range(len(arr)):\n",
    "        j= i\n",
    "        while j > 0 and arr[j] < arr[j-1]:\n",
    "            swap(arr, j, j-1)\n",
    "            j-=1\n",
    "nums6 = [55,1,99,65,41,3,8,74]\n",
    "\n",
    "print(nums6)\n",
    "insSort(nums6)\n",
    "print(nums6)"
   ]
  },
  {
   "cell_type": "markdown",
   "metadata": {},
   "source": [
    "## Merge Sort"
   ]
  },
  {
   "cell_type": "markdown",
   "metadata": {},
   "source": [
    "#### How it Works"
   ]
  },
  {
   "cell_type": "code",
   "execution_count": 14,
   "metadata": {},
   "outputs": [
    {
     "name": "stdout",
     "output_type": "stream",
     "text": [
      "[55, 1, 99, 65, 41, 3, 8, 74, 51, 95, 165, 4, 8]\n",
      "[1, 3, 4, 8, 8, 41, 51, 55, 65, 74, 95, 99, 165]\n"
     ]
    }
   ],
   "source": [
    "# 1.split everyting from the middle and keep going until we cant go any further\n",
    "# 2.from left to right merge groups together\n",
    "# 3.while merging, plave each where it belongs withing the merged group\n",
    "# 4.repeat, keep going, all the way up the chain\n",
    "\n",
    "def mergeSort(alist):\n",
    "   print('Splitting. . . ', alist)\n",
    "    #step 1\n",
    "    if len(alist) > 1:\n",
    "        mid = len(alist)//2 #remember find middle of list\n",
    "        lefthalf = alist[:mid]\n",
    "        righthalf = alist[mid:]\n",
    "        \n",
    "        \n",
    "        #this is our recursive call!\n",
    "        mergeSort(lefthalf)\n",
    "        mergeSort(righthalf)\n",
    "        \n",
    "        #create our pointers\n",
    "        i,j,k = 0,0,0\n",
    "        \n",
    "        # step 2 let's compare lefthalf and righthalf\n",
    "        while i < len(lefthalf) and j < len(righthalf):\n",
    "            if lefthalf[i] < righthalf[j]:\n",
    "                alist[k] = lefthalf[i]\n",
    "                i += 1\n",
    "            else:\n",
    "                alist[k] = righthalf[j] \n",
    "                j += 1\n",
    "            k += 1 \n",
    "        #step 3 - while merging: placement\n",
    "        while i < len(lefthalf):\n",
    "            alist[k] = lefthalf[i]\n",
    "            i +=1\n",
    "            k +=1\n",
    "        while j < len(righthalf):\n",
    "            alist[k] = righthalf[j]\n",
    "            j += 1\n",
    "            k += 1\n",
    "        print('Merging . . .', alist)\n",
    "nums7 = [55,1,99,65,41,3,8,74,51,95,165,4,8]\n",
    "print(nums7)\n",
    "mergeSort(nums7)\n",
    "print(nums7)\n",
    "        "
   ]
  },
  {
   "cell_type": "markdown",
   "metadata": {},
   "source": [
    "# Binary Search\n",
    "\n",
    "The Binary Search algorithm works by finding the number in the middle of a given array and comparing it to the target. Given that the array is sorted\n",
    "\n",
    "* The worst case run time for this algorithm is `O(log(n))`"
   ]
  },
  {
   "cell_type": "code",
   "execution_count": 20,
   "metadata": {},
   "outputs": [
    {
     "data": {
      "text/plain": [
       "'I found your target at index: 0'"
      ]
     },
     "execution_count": 20,
     "metadata": {},
     "output_type": "execute_result"
    }
   ],
   "source": [
    "(nums7)\n",
    "nums8 = [1,3,4,9,11,18,50,68,97]\n",
    "def binSearch(nums, target):\n",
    "    left = 0\n",
    "    right = len(nums)-1\n",
    "    while left <= right:\n",
    "        mid = (left + right)//2\n",
    "        potentialMatch = nums[mid]\n",
    "        if target == potentialMatch:\n",
    "            return f\"I found your target at index: {mid}\"\n",
    "        elif target < potentialMatch:\n",
    "            right = mid - 1\n",
    "        elif target > potentialMatch:\n",
    "            left = mid + 1\n",
    "    return f\"Sorry, your target isn't there!!!\"\n",
    "binSearch(nums8, 1)"
   ]
  },
  {
   "cell_type": "markdown",
   "metadata": {},
   "source": [
    "# Exercises"
   ]
  },
  {
   "cell_type": "markdown",
   "metadata": {},
   "source": [
    "### Exercise #1 <br>\n",
    "<p>Reverse the list below in-place using an in-place algorithm.<br>For extra credit: Reverse the strings at the same time.</p>"
   ]
  },
  {
   "cell_type": "code",
   "execution_count": 47,
   "metadata": {},
   "outputs": [
    {
     "data": {
      "text/plain": [
       "['.', 'sentence', 'a', 'is', 'this']"
      ]
     },
     "execution_count": 47,
     "metadata": {},
     "output_type": "execute_result"
    }
   ],
   "source": [
    "words = ['this' , 'is', 'a', 'sentence', '.']\n",
    "# output-['.', 'sentence', 'a', 'is', 'this']\n",
    "\n",
    "def swapWords(alist, x,y,z,j,i):\n",
    "    copy = alist[:]\n",
    "    copy[x], copy[y], copy[z], copy[j], copy[i] = copy[i], copy[j], copy[z], copy[y], copy[x]\n",
    "    return copy\n",
    " \n",
    "swapWords(words, 0,1,2,3,4)\n",
    "\n",
    "\n"
   ]
  },
  {
   "cell_type": "markdown",
   "metadata": {},
   "source": [
    "### Exercise #2 <br>\n",
    "<p>Create a function that counts how many distinct words are in the string below, then outputs a dictionary with the words as the key and the value as the amount of times that word appears in the string.<br>Should output:<br>{'a': 5,<br>\n",
    " 'abstract': 1,<br>\n",
    " 'an': 3,<br>\n",
    " 'array': 2, ... etc...</p>"
   ]
  },
  {
   "cell_type": "code",
   "execution_count": 59,
   "metadata": {},
   "outputs": [
    {
     "name": "stdout",
     "output_type": "stream",
     "text": [
      "{'in': 1, 'computing,': 1, 'a': 5, 'hash': 4, 'table': 2, 'map': 2, 'is': 1, 'data': 2, 'structure': 2, 'which': 2, 'implements': 1, 'an': 3, 'associative': 1, 'array': 2, 'abstract': 1, 'type,': 1, 'that': 1, 'can': 2, 'keys': 1, 'to': 2, 'values.': 1, 'uses': 1, 'function': 1, 'compute': 1, 'index': 1, 'into': 1, 'of': 1, 'buckets': 1, 'or': 1, 'slots': 1, 'from': 1, 'the': 1, 'desired': 1, 'value': 1, 'be': 1, 'found': 1}\n"
     ]
    }
   ],
   "source": [
    "a_text = 'In computing, a hash table hash map is a data structure which implements an associative array abstract data type, a structure that can map keys to values. A hash table uses a hash function to compute an index into an array of buckets or slots from which the desired value can be found'\n",
    "\n",
    "def countWords(text):\n",
    " \n",
    "    words = text.lower(). split()\n",
    "\n",
    "    listw= {}\n",
    "\n",
    "    for word in words:\n",
    "        if word in listw:\n",
    "            listw[word] += 1\n",
    "        else: \n",
    "            listw[word] = 1\n",
    "\n",
    "    return listw\n",
    "\n",
    "a_text = 'In computing, a hash table hash map is a data structure which implements an associative array abstract data type, a structure that can map keys to values. A hash table uses a hash function to compute an index into an array of buckets or slots from which the desired value can be found'\n",
    "\n",
    "listw = countWords(a_text)\n",
    "print(listw)"
   ]
  },
  {
   "cell_type": "markdown",
   "metadata": {},
   "source": [
    "## Exercise #3\n",
    "\n",
    "Write a program to implement a Linear Search Algorithm. Also in a comment, write the Time Complexity of the following algorithm.\n",
    "\n",
    "#### Hint: Linear Searching will require searching a list for a given number. "
   ]
  },
  {
   "cell_type": "code",
   "execution_count": 139,
   "metadata": {},
   "outputs": [
    {
     "name": "stdout",
     "output_type": "stream",
     "text": [
      "your number is not in here\n",
      "your number is here in index: 1 \n"
     ]
    }
   ],
   "source": [
    "#find a list in a number thats it dont overthink\n",
    "\n",
    "def findNum(list, y):\n",
    "    for x in range(len(list)):\n",
    "        if list[x] == y:\n",
    "            print(f'your number is here in index: {x} ')\n",
    "            break\n",
    "        else:\n",
    "             print(\"your number is not in here\")\n",
    "\n",
    "num9=[5,7,8,1,6,9]\n",
    "\n",
    "findNum(num9, 7)\n",
    "# findNum(num9, '5')\n"
   ]
  },
  {
   "cell_type": "code",
   "execution_count": null,
   "metadata": {},
   "outputs": [],
   "source": []
  }
 ],
 "metadata": {
  "kernelspec": {
   "display_name": "Python 3 (ipykernel)",
   "language": "python",
   "name": "python3"
  },
  "language_info": {
   "codemirror_mode": {
    "name": "ipython",
    "version": 3
   },
   "file_extension": ".py",
   "mimetype": "text/x-python",
   "name": "python",
   "nbconvert_exporter": "python",
   "pygments_lexer": "ipython3",
   "version": "3.9.13"
  }
 },
 "nbformat": 4,
 "nbformat_minor": 2
}
